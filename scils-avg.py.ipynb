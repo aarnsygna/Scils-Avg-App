{
 "cells": [
  {
   "cell_type": "code",
   "execution_count": 58,
   "id": "70cf8508",
   "metadata": {},
   "outputs": [],
   "source": [
    "import pandas as pd\n",
    "import numpy as np"
   ]
  },
  {
   "cell_type": "code",
   "execution_count": 35,
   "id": "9b482856",
   "metadata": {},
   "outputs": [],
   "source": [
    "scils_df = pd.read_csv(\"Regions_SPECTRA3.csv\", sep=\";\", header = 10, index_col = 0)"
   ]
  },
  {
   "cell_type": "code",
   "execution_count": 36,
   "id": "9ef6d946",
   "metadata": {},
   "outputs": [
    {
     "data": {
      "text/html": [
       "<div>\n",
       "<style scoped>\n",
       "    .dataframe tbody tr th:only-of-type {\n",
       "        vertical-align: middle;\n",
       "    }\n",
       "\n",
       "    .dataframe tbody tr th {\n",
       "        vertical-align: top;\n",
       "    }\n",
       "\n",
       "    .dataframe thead th {\n",
       "        text-align: right;\n",
       "    }\n",
       "</style>\n",
       "<table border=\"1\" class=\"dataframe\">\n",
       "  <thead>\n",
       "    <tr style=\"text-align: right;\">\n",
       "      <th></th>\n",
       "      <th>Spot 1</th>\n",
       "      <th>Spot 2</th>\n",
       "      <th>Spot 3</th>\n",
       "      <th>Spot 4</th>\n",
       "      <th>Spot 5</th>\n",
       "      <th>Spot 6</th>\n",
       "      <th>Spot 7</th>\n",
       "      <th>Spot 8</th>\n",
       "      <th>Spot 9</th>\n",
       "      <th>Spot 10</th>\n",
       "      <th>...</th>\n",
       "      <th>Spot 36784</th>\n",
       "      <th>Spot 36785</th>\n",
       "      <th>Spot 36786</th>\n",
       "      <th>Spot 36787</th>\n",
       "      <th>Spot 36788</th>\n",
       "      <th>Spot 36789</th>\n",
       "      <th>Spot 36790</th>\n",
       "      <th>Spot 36791</th>\n",
       "      <th>Spot 36792</th>\n",
       "      <th>Spot 36793</th>\n",
       "    </tr>\n",
       "    <tr>\n",
       "      <th>m/z</th>\n",
       "      <th></th>\n",
       "      <th></th>\n",
       "      <th></th>\n",
       "      <th></th>\n",
       "      <th></th>\n",
       "      <th></th>\n",
       "      <th></th>\n",
       "      <th></th>\n",
       "      <th></th>\n",
       "      <th></th>\n",
       "      <th></th>\n",
       "      <th></th>\n",
       "      <th></th>\n",
       "      <th></th>\n",
       "      <th></th>\n",
       "      <th></th>\n",
       "      <th></th>\n",
       "      <th></th>\n",
       "      <th></th>\n",
       "      <th></th>\n",
       "      <th></th>\n",
       "    </tr>\n",
       "  </thead>\n",
       "  <tbody>\n",
       "    <tr>\n",
       "      <th>70.946040</th>\n",
       "      <td>0.0</td>\n",
       "      <td>0.0</td>\n",
       "      <td>0.0</td>\n",
       "      <td>0.0</td>\n",
       "      <td>0.0</td>\n",
       "      <td>0</td>\n",
       "      <td>0</td>\n",
       "      <td>0.0</td>\n",
       "      <td>0.0</td>\n",
       "      <td>0.0</td>\n",
       "      <td>...</td>\n",
       "      <td>0.0</td>\n",
       "      <td>0.0</td>\n",
       "      <td>0.0</td>\n",
       "      <td>0.0</td>\n",
       "      <td>0.0</td>\n",
       "      <td>0.0</td>\n",
       "      <td>0.0</td>\n",
       "      <td>0.0</td>\n",
       "      <td>0.0</td>\n",
       "      <td>0.0</td>\n",
       "    </tr>\n",
       "    <tr>\n",
       "      <th>78.918847</th>\n",
       "      <td>0.0</td>\n",
       "      <td>0.0</td>\n",
       "      <td>0.0</td>\n",
       "      <td>0.0</td>\n",
       "      <td>0.0</td>\n",
       "      <td>0</td>\n",
       "      <td>0</td>\n",
       "      <td>0.0</td>\n",
       "      <td>0.0</td>\n",
       "      <td>0.0</td>\n",
       "      <td>...</td>\n",
       "      <td>0.0</td>\n",
       "      <td>0.0</td>\n",
       "      <td>0.0</td>\n",
       "      <td>0.0</td>\n",
       "      <td>0.0</td>\n",
       "      <td>0.0</td>\n",
       "      <td>0.0</td>\n",
       "      <td>0.0</td>\n",
       "      <td>0.0</td>\n",
       "      <td>0.0</td>\n",
       "    </tr>\n",
       "    <tr>\n",
       "      <th>79.957324</th>\n",
       "      <td>0.0</td>\n",
       "      <td>0.0</td>\n",
       "      <td>0.0</td>\n",
       "      <td>0.0</td>\n",
       "      <td>0.0</td>\n",
       "      <td>0</td>\n",
       "      <td>0</td>\n",
       "      <td>0.0</td>\n",
       "      <td>0.0</td>\n",
       "      <td>0.0</td>\n",
       "      <td>...</td>\n",
       "      <td>0.0</td>\n",
       "      <td>0.0</td>\n",
       "      <td>0.0</td>\n",
       "      <td>0.0</td>\n",
       "      <td>0.0</td>\n",
       "      <td>0.0</td>\n",
       "      <td>0.0</td>\n",
       "      <td>0.0</td>\n",
       "      <td>0.0</td>\n",
       "      <td>0.0</td>\n",
       "    </tr>\n",
       "    <tr>\n",
       "      <th>82.954106</th>\n",
       "      <td>0.0</td>\n",
       "      <td>0.0</td>\n",
       "      <td>0.0</td>\n",
       "      <td>0.0</td>\n",
       "      <td>0.0</td>\n",
       "      <td>0</td>\n",
       "      <td>0</td>\n",
       "      <td>0.0</td>\n",
       "      <td>0.0</td>\n",
       "      <td>0.0</td>\n",
       "      <td>...</td>\n",
       "      <td>0.0</td>\n",
       "      <td>0.0</td>\n",
       "      <td>0.0</td>\n",
       "      <td>0.0</td>\n",
       "      <td>0.0</td>\n",
       "      <td>0.0</td>\n",
       "      <td>0.0</td>\n",
       "      <td>0.0</td>\n",
       "      <td>0.0</td>\n",
       "      <td>0.0</td>\n",
       "    </tr>\n",
       "    <tr>\n",
       "      <th>85.029464</th>\n",
       "      <td>0.0</td>\n",
       "      <td>0.0</td>\n",
       "      <td>0.0</td>\n",
       "      <td>0.0</td>\n",
       "      <td>0.0</td>\n",
       "      <td>0</td>\n",
       "      <td>0</td>\n",
       "      <td>0.0</td>\n",
       "      <td>0.0</td>\n",
       "      <td>0.0</td>\n",
       "      <td>...</td>\n",
       "      <td>0.0</td>\n",
       "      <td>0.0</td>\n",
       "      <td>0.0</td>\n",
       "      <td>0.0</td>\n",
       "      <td>0.0</td>\n",
       "      <td>0.0</td>\n",
       "      <td>0.0</td>\n",
       "      <td>0.0</td>\n",
       "      <td>0.0</td>\n",
       "      <td>0.0</td>\n",
       "    </tr>\n",
       "  </tbody>\n",
       "</table>\n",
       "<p>5 rows × 36793 columns</p>\n",
       "</div>"
      ],
      "text/plain": [
       "           Spot 1  Spot 2  Spot 3  Spot 4  Spot 5  Spot 6  Spot 7  Spot 8  \\\n",
       "m/z                                                                         \n",
       "70.946040     0.0     0.0     0.0     0.0     0.0       0       0     0.0   \n",
       "78.918847     0.0     0.0     0.0     0.0     0.0       0       0     0.0   \n",
       "79.957324     0.0     0.0     0.0     0.0     0.0       0       0     0.0   \n",
       "82.954106     0.0     0.0     0.0     0.0     0.0       0       0     0.0   \n",
       "85.029464     0.0     0.0     0.0     0.0     0.0       0       0     0.0   \n",
       "\n",
       "           Spot 9  Spot 10  ...  Spot 36784  Spot 36785  Spot 36786  \\\n",
       "m/z                         ...                                       \n",
       "70.946040     0.0      0.0  ...         0.0         0.0         0.0   \n",
       "78.918847     0.0      0.0  ...         0.0         0.0         0.0   \n",
       "79.957324     0.0      0.0  ...         0.0         0.0         0.0   \n",
       "82.954106     0.0      0.0  ...         0.0         0.0         0.0   \n",
       "85.029464     0.0      0.0  ...         0.0         0.0         0.0   \n",
       "\n",
       "           Spot 36787  Spot 36788  Spot 36789  Spot 36790  Spot 36791  \\\n",
       "m/z                                                                     \n",
       "70.946040         0.0         0.0         0.0         0.0         0.0   \n",
       "78.918847         0.0         0.0         0.0         0.0         0.0   \n",
       "79.957324         0.0         0.0         0.0         0.0         0.0   \n",
       "82.954106         0.0         0.0         0.0         0.0         0.0   \n",
       "85.029464         0.0         0.0         0.0         0.0         0.0   \n",
       "\n",
       "           Spot 36792  Spot 36793  \n",
       "m/z                                \n",
       "70.946040         0.0         0.0  \n",
       "78.918847         0.0         0.0  \n",
       "79.957324         0.0         0.0  \n",
       "82.954106         0.0         0.0  \n",
       "85.029464         0.0         0.0  \n",
       "\n",
       "[5 rows x 36793 columns]"
      ]
     },
     "execution_count": 36,
     "metadata": {},
     "output_type": "execute_result"
    }
   ],
   "source": [
    "scils_df.head()\n",
    "#Current dataset has a total of 36974 columns"
   ]
  },
  {
   "cell_type": "code",
   "execution_count": 39,
   "id": "78c56c21",
   "metadata": {},
   "outputs": [
    {
     "name": "stdout",
     "output_type": "stream",
     "text": [
      "Number of rows: 307\n",
      "Number of Columns: 36793\n"
     ]
    }
   ],
   "source": [
    "rows = str(len(scils_df))\n",
    "cols = str(len(scils_df.columns))\n",
    "print(\"Number of rows: \"+ rows + \"\\nNumber of Columns: \" + cols)\n",
    "#Number is 307 x 36793 (rowxcol)"
   ]
  },
  {
   "cell_type": "code",
   "execution_count": 73,
   "id": "9c4a93c6",
   "metadata": {},
   "outputs": [
    {
     "name": "stdout",
     "output_type": "stream",
     "text": [
      "                Spot 1\n",
      "m/z                   \n",
      "70.946040     0.000000\n",
      "78.918847     0.000000\n",
      "79.957324     0.000000\n",
      "82.954106     0.000000\n",
      "85.029464     0.000000\n",
      "...                ...\n",
      "214.993686    0.000000\n",
      "215.014992    0.000000\n",
      "215.032574  396.191925\n",
      "215.032750  372.268005\n",
      "215.034088  282.877747\n",
      "\n",
      "[307 rows x 1 columns]\n"
     ]
    }
   ],
   "source": [
    "print(scils_df.iloc[:, 0:1])\n",
    "#print(scils_df.iloc[0:1,:])"
   ]
  },
  {
   "cell_type": "code",
   "execution_count": 55,
   "id": "aa7c429a",
   "metadata": {},
   "outputs": [
    {
     "data": {
      "text/plain": [
       "m/z\n",
       "78.918847    0.823182\n",
       "dtype: float64"
      ]
     },
     "execution_count": 55,
     "metadata": {},
     "output_type": "execute_result"
    }
   ],
   "source": [
    "df1=scils_df.copy()\n",
    "#df_mean = df1.iloc[0:1,:].mean(axis=1)\n",
    "#df_mean.head()"
   ]
  },
  {
   "cell_type": "code",
   "execution_count": 89,
   "id": "7cb3650d",
   "metadata": {},
   "outputs": [],
   "source": [
    "df_mean_all = pd.DataFrame(index=np.arange(int(rows)), columns=np.arange(1))\n",
    "#print(df_mean_all)"
   ]
  },
  {
   "cell_type": "code",
   "execution_count": 94,
   "id": "df86e75f",
   "metadata": {},
   "outputs": [],
   "source": [
    "x = 0\n",
    "y = 1\n",
    "for idx in df1.index:\n",
    "    df_mean_all = df1.mean(axis=\"columns\")\n",
    "    x = x + 1\n",
    "    y = y + 1"
   ]
  },
  {
   "cell_type": "code",
   "execution_count": 99,
   "id": "c790c4c7",
   "metadata": {},
   "outputs": [
    {
     "ename": "TypeError",
     "evalue": "Series.rename() got an unexpected keyword argument 'columns'",
     "output_type": "error",
     "traceback": [
      "\u001b[0;31m---------------------------------------------------------------------------\u001b[0m",
      "\u001b[0;31mTypeError\u001b[0m                                 Traceback (most recent call last)",
      "Cell \u001b[0;32mIn [99], line 1\u001b[0m\n\u001b[0;32m----> 1\u001b[0m \u001b[43mdf_mean_all\u001b[49m\u001b[38;5;241;43m.\u001b[39;49m\u001b[43mrename\u001b[49m\u001b[43m(\u001b[49m\u001b[43mcolumns\u001b[49m\u001b[43m \u001b[49m\u001b[38;5;241;43m=\u001b[39;49m\u001b[43m \u001b[49m\u001b[43m{\u001b[49m\u001b[38;5;124;43m\"\u001b[39;49m\u001b[38;5;124;43m\"\u001b[39;49m\u001b[43m:\u001b[49m\u001b[38;5;124;43m\"\u001b[39;49m\u001b[38;5;124;43mMean\u001b[39;49m\u001b[38;5;124;43m\"\u001b[39;49m\u001b[43m}\u001b[49m\u001b[43m \u001b[49m\u001b[43m,\u001b[49m\u001b[43minplace\u001b[49m\u001b[43m \u001b[49m\u001b[38;5;241;43m=\u001b[39;49m\u001b[43m \u001b[49m\u001b[38;5;28;43;01mFalse\u001b[39;49;00m\u001b[43m)\u001b[49m\n\u001b[1;32m      2\u001b[0m \u001b[38;5;28mprint\u001b[39m(df_mean_all)\n",
      "\u001b[0;31mTypeError\u001b[0m: Series.rename() got an unexpected keyword argument 'columns'"
     ]
    }
   ],
   "source": [
    "df_mean_all.rename(columns = {\"\":\"Mean\"} ,inplace = False)\n",
    "print(df_mean_all)"
   ]
  },
  {
   "cell_type": "code",
   "execution_count": null,
   "id": "6c79729d",
   "metadata": {},
   "outputs": [],
   "source": []
  }
 ],
 "metadata": {
  "kernelspec": {
   "display_name": "Python 3 (ipykernel)",
   "language": "python",
   "name": "python3"
  },
  "language_info": {
   "codemirror_mode": {
    "name": "ipython",
    "version": 3
   },
   "file_extension": ".py",
   "mimetype": "text/x-python",
   "name": "python",
   "nbconvert_exporter": "python",
   "pygments_lexer": "ipython3",
   "version": "3.10.8"
  }
 },
 "nbformat": 4,
 "nbformat_minor": 5
}
